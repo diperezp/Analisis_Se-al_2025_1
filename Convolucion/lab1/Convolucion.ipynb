{
 "cells": [
  {
   "cell_type": "markdown",
   "metadata": {},
   "source": [
    "$Convolucion$\n"
   ]
  },
  {
   "cell_type": "code",
   "execution_count": null,
   "metadata": {},
   "outputs": [],
   "source": [
    "#app_15.1\n",
    "import torch\n",
    "from torchvision.transforms import ToTensor\n",
    "from torchvision import datasets, transforms\n",
    "from torchvision.datasets import MNIST\n",
    "import matplotlib.pyplot as plt\n",
    "\"\"\"\n",
    "EL DATASET\n",
    "\"\"\"\n",
    "# Cargar las imágenes MNIST.\n",
    "# En la cargada se usó ToTensor para simultaneamente\n",
    "# convertir las imágenes en tensores PyTorch\n",
    "# normalizados [0.0, 1.0]\n",
    "transform = transforms.Compose([\n",
    "transforms.Resize((28, 28)),\n",
    "transforms.ToTensor()])\n",
    "\n",
    "train_data =datasets.MNIST('./data',train=True,transform=transform,download=True)\n",
    "test_data =datasets.MNIST('./data',train=False,transform=transform,download=True)\n",
    "\n",
    "# Explorar un poco el dataset\n",
    "# Conjunto de entrenamiento\n",
    "print(\"\\n\")\n",
    "print(\"Shape train:\", train_data.data.shape)\n",
    "print(\"Dim train:\", train_data.data.dim())\n",
    "# Conjunto de testeo\n",
    "print(\"\\n\")\n",
    "print(\"Shape test:\", test_data.data.shape)\n",
    "print(\"Dim test:\", test_data.data.dim())\n",
    "# Explorar la imágen en la posición 50 de train\n",
    "imagen, etiqueta = train_data[50]\n",
    "print(\"\\n\")\n",
    "print(\"Shape de imagen de entrenamiento en la posición 50:\",imagen.shape)\n",
    "print(\"Dim de imagen de entrenamiento en la posición 50:\",imagen.shape)\n",
    "print(\"Etiqueta corresponsdiente a la imagen en la posición 50:\",etiqueta)\n",
    "print(\"\\n\")\n",
    "print(\"Los valores están ya normalizados entre -1 y 1:\")\n",
    "print(f\"Min: {imagen.min()}\")\n",
    "print(f\"Max: {imagen.max()}\")\n",
    "print(f\"Media: {imagen.mean()}\")\n",
    "figure = plt.figure(figsize=(2, 2))\n",
    "plt.title(etiqueta)\n",
    "plt.axis(\"off\")\n",
    "# Matplotlib trabaja con la imagen (28,28,1 y Pytorch (1,28,28)\n",
    "# por lo tanto hay que permutar\n",
    "imagen = imagen.permute(1,2,0)\n",
    "plt.imshow(imagen, cmap=\"gray\")\n",
    "plt.show()\n",
    "# Desplegar un conjunto al azar de 25 imágenes de entrenamiento\n",
    "figure = plt.figure(figsize=(10, 10))\n",
    "cols, rows = 5, 5\n",
    "for i in range(1, cols * rows + 1):\n",
    "    sample_idx = torch.randint(len(train_data), size=(1,)).item()\n",
    "    imagen, label = train_data[sample_idx]\n",
    "    figure.add_subplot(rows, cols, i)\n",
    "    plt.title(label)\n",
    "    plt.axis(\"off\")\n",
    "    # Matplotlib trabaja con la imagen (28,28,1 y Pytorch (1,28,28)\n",
    "    # por lo tanto hay que permutar\n",
    "    imagen = imagen.permute(1,2,0)\n",
    "    plt.imshow(imagen, cmap=\"gray\")\n",
    "plt.show()"
   ]
  }
 ],
 "metadata": {
  "language_info": {
   "name": "python"
  }
 },
 "nbformat": 4,
 "nbformat_minor": 2
}
