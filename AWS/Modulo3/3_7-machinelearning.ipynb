{
 "cells": [
  {
   "cell_type": "markdown",
   "metadata": {},
   "source": [
    "# Laboratorio 3.7: Cuaderno del estudiante"
   ]
  },
  {
   "cell_type": "markdown",
   "metadata": {},
   "source": [
    "## Información general\n",
    "\n",
    "Este laboratorio es una continuación de los laboratorios guiados del Módulo 3.\n",
    "\n",
    "En este laboratorio, creará un trabajo de ajuste de hiperparámetros para ajustar el modelo que creó anteriormente. A continuación, comparará las métricas de los dos modelos.\n",
    "\n",
    "\n",
    "## Presentación de la situación empresarial\n",
    "\n",
    "Trabaja para un proveedor de atención médica y desea mejorar la detección de anomalías en los pacientes de ortopedia. \n",
    "\n",
    "Se le asignó la tarea de resolver este problema con el uso de machine learning (ML). Tiene acceso a un conjunto de datos que contiene seis funciones biomecánicas y un objetivo de *normal* o *anormal*. Puede usar este conjunto de datos para entrenar un modelo de ML para predecir si un paciente tendrá una anomalía.\n",
    "\n",
    "\n",
    "## Acerca de este conjunto de datos\n",
    "\n",
    "Este conjunto de datos biomédicos fue creado por el Dr. Henrique da Mota durante un periodo de residencia médica en el Group of Applied Research in Orthopaedics (GARO) del Centre Médico-Chirurgical de Réadaptation des Massues, Lyon, Francia. Los datos se organizaron en dos tareas de clasificación diferentes pero que se relacionan. \n",
    "\n",
    "La primera tarea consiste en clasificar pacientes como pertenecientes a una de tres categorías: \n",
    "\n",
    "- *Normal* (100 pacientes)\n",
    "- *Hernia de disco* (60 pacientes)\n",
    "- *Espondilolistesis* (150 pacientes)\n",
    "\n",
    "Para la segunda tarea, las categorías *hernia de disco* y *espondilolistesis* se fusionaron en una sola categoría que se denomina *anormal*. Por ende, la segunda tarea consiste en clasificar a los pacientes como pertenecientes a una de dos categorías: *normal* (100 pacientes) o *anormal* (210 pacientes).\n",
    "\n",
    "\n",
    "## Información de atributos\n",
    "\n",
    "Cada paciente está representado en el conjunto de datos por seis atributos biomecánicos que se derivan de la forma y la orientación de la pelvis y la columna lumbar (en este orden): \n",
    "\n",
    "- Pelvic incidence (Incidencia pélvica)\n",
    "- Pelvic tilt (Inclinación pélvica)\n",
    "- Lumbar lordosis angle (Ángulo de lordosis lumbar)\n",
    "- Sacral slope (Pendiente sacra)\n",
    "- Pelvic radius (Radio pélvico)\n",
    "- Grade of spondylolisthesis (Grado de espondilolistesis)\n",
    "\n",
    "Se usa la siguiente convención para las etiquetas de clase: \n",
    "- DH (hernia de disco)\n",
    "- SL (espondilolistesis)\n",
    "- NO (normal) \n",
    "- AB (anormal)\n",
    "\n",
    "\n",
    "Para obtener más información sobre este conjunto de datos, consulte la [página web del conjunto de datos de la columna vertebral](http://archive.ics.uci.edu/ml/datasets/Vertebral+Column).\n",
    "\n",
    "\n",
    "## Atribuciones del conjunto de datos\n",
    "\n",
    "Este conjunto de datos se obtuvo de:\n",
    "Dua, D. y Graff, C. (2019). Repositorio de Machine Learning de UCI (http://archive.ics.uci.edu/ml). Irvine, CA: Universidad de California, School of Information and Computer Science.\n"
   ]
  },
  {
   "cell_type": "markdown",
   "metadata": {},
   "source": [
    "# Configuración del laboratorio\n",
    "\n",
    "Debido a que esta solución se divide en varios laboratorios en el módulo, debe ejecutar las siguientes celdas para poder cargar los datos y entrenar el modelo que se implementará.\n",
    "\n",
    "**Nota:** La configuración puede tardar hasta 5 minutos en completarse."
   ]
  },
  {
   "cell_type": "markdown",
   "metadata": {},
   "source": [
    "## Importación de los datos y entrenamiento, prueba y validación del modelo\n",
    "\n",
    "Ejecute las siguientes celdas para importar los datos, entrenar, probar y validar el modelo y dejarlo listo para utilizarse. \n",
    "\n",
    "**Nota:** Las siguientes celdas representan los pasos clave de los laboratorios anteriores.\n",
    "\n",
    "Para ajustar el modelo, debe estar listo y, luego, se puede afinar con hiperparámetros en el paso 2."
   ]
  },
  {
   "cell_type": "code",
   "execution_count": 2,
   "metadata": {},
   "outputs": [],
   "source": [
    "bucket='c152508a3920490l10690870t1w163075228554-labbucket-pqjallrwfywu'"
   ]
  },
  {
   "cell_type": "code",
   "execution_count": 3,
   "metadata": {},
   "outputs": [
    {
     "name": "stdout",
     "output_type": "stream",
     "text": [
      "sagemaker.config INFO - Not applying SDK defaults from location: /etc/xdg/sagemaker/config.yaml\n",
      "sagemaker.config INFO - Not applying SDK defaults from location: /home/ec2-user/.config/sagemaker/config.yaml\n"
     ]
    },
    {
     "name": "stderr",
     "output_type": "stream",
     "text": [
      "Matplotlib is building the font cache; this may take a moment.\n"
     ]
    }
   ],
   "source": [
    "import time\n",
    "start = time.time()\n",
    "import warnings, requests, zipfile, io\n",
    "warnings.simplefilter('ignore')\n",
    "import pandas as pd\n",
    "from scipy.io import arff\n",
    "\n",
    "import os\n",
    "import boto3\n",
    "import sagemaker\n",
    "from sagemaker.image_uris import retrieve\n",
    "from sklearn.model_selection import train_test_split\n",
    "\n",
    "from sklearn.metrics import roc_auc_score, roc_curve, auc, confusion_matrix\n",
    "import seaborn as sns\n",
    "import matplotlib.pyplot as plt"
   ]
  },
  {
   "cell_type": "markdown",
   "metadata": {},
   "source": [
    "**Nota:** La siguiente celda tarda aproximadamente **10** minutos en completarse. Observe el código y cómo se procesa, esto le permite entender mejor lo que sucede en segundo plano. Tenga presente que esta celda completa todos los pasos que hizo en laboratorios anteriores de este módulo, entre ellos:\n",
    " - Importación de los datos\n",
    " - Carga de los datos en un DataFrame\n",
    " - División de los datos en conjuntos de datos de entrenamiento, prueba y validación\n",
    " - Carga de los conjuntos de datos divididos en S3\n",
    " - Entrenamiento, prueba y validación del modelo con los conjuntos de datos"
   ]
  },
  {
   "cell_type": "code",
   "execution_count": 4,
   "metadata": {},
   "outputs": [
    {
     "name": "stderr",
     "output_type": "stream",
     "text": [
      "INFO:sagemaker:Creating training-job with name: sagemaker-xgboost-2025-06-21-10-56-05-905\n"
     ]
    },
    {
     "name": "stdout",
     "output_type": "stream",
     "text": [
      "\n",
      "2025-06-21 10:56:07 Starting - Starting the training job..\n",
      "2025-06-21 10:56:21 Starting - Preparing the instances for training..\n",
      "2025-06-21 10:56:38 Downloading - Downloading input data..\n",
      "2025-06-21 10:56:53 Downloading - Downloading the training image......\n",
      "2025-06-21 10:57:29 Training - Training image download completed. Training in progress.....\n",
      "2025-06-21 10:57:55 Uploading - Uploading generated training model..\n",
      "2025-06-21 10:58:08 Completed - Training job completed"
     ]
    },
    {
     "name": "stderr",
     "output_type": "stream",
     "text": [
      "INFO:sagemaker:Creating model with name: sagemaker-xgboost-2025-06-21-10-58-12-607\n"
     ]
    },
    {
     "name": "stdout",
     "output_type": "stream",
     "text": [
      "\n"
     ]
    },
    {
     "name": "stderr",
     "output_type": "stream",
     "text": [
      "INFO:sagemaker:Creating transform job with name: sagemaker-xgboost-2025-06-21-10-58-13-120\n"
     ]
    },
    {
     "name": "stdout",
     "output_type": "stream",
     "text": [
      "...........................\n",
      "..!\n",
      "CPU times: user 1.47 s, sys: 161 ms, total: 1.63 s\n",
      "Wall time: 7min 5s\n"
     ]
    }
   ],
   "source": [
    "%%time\n",
    "\n",
    "def plot_roc(test_labels, target_predicted_binary):\n",
    "    TN, FP, FN, TP = confusion_matrix(test_labels, target_predicted_binary).ravel()\n",
    "    # Sensitivity, hit rate, recall, or true positive rate\n",
    "    Sensitivity  = float(TP)/(TP+FN)*100\n",
    "    # Specificity or true negative rate\n",
    "    Specificity  = float(TN)/(TN+FP)*100\n",
    "    # Precision or positive predictive value\n",
    "    Precision = float(TP)/(TP+FP)*100\n",
    "    # Negative predictive value\n",
    "    NPV = float(TN)/(TN+FN)*100\n",
    "    # Fall out or false positive rate\n",
    "    FPR = float(FP)/(FP+TN)*100\n",
    "    # False negative rate\n",
    "    FNR = float(FN)/(TP+FN)*100\n",
    "    # False discovery rate\n",
    "    FDR = float(FP)/(TP+FP)*100\n",
    "    # Overall accuracy\n",
    "    ACC = float(TP+TN)/(TP+FP+FN+TN)*100\n",
    "\n",
    "    print(f\"Sensitivity or TPR: {Sensitivity}%\")    \n",
    "    print(f\"Specificity or TNR: {Specificity}%\") \n",
    "    print(f\"Precision: {Precision}%\")   \n",
    "    print(f\"Negative Predictive Value: {NPV}%\")  \n",
    "    print( f\"False Positive Rate: {FPR}%\") \n",
    "    print(f\"False Negative Rate: {FNR}%\")  \n",
    "    print(f\"False Discovery Rate: {FDR}%\" )\n",
    "    print(f\"Accuracy: {ACC}%\") \n",
    "\n",
    "    test_labels = test.iloc[:,0];\n",
    "    print(\"Validation AUC\", roc_auc_score(test_labels, target_predicted_binary) )\n",
    "\n",
    "    fpr, tpr, thresholds = roc_curve(test_labels, target_predicted_binary)\n",
    "    roc_auc = auc(fpr, tpr)\n",
    "\n",
    "    plt.figure()\n",
    "    plt.plot(fpr, tpr, label='ROC curve (area = %0.2f)' % (roc_auc))\n",
    "    plt.plot([0, 1], [0, 1], 'k--')\n",
    "    plt.xlim([0.0, 1.0])\n",
    "    plt.ylim([0.0, 1.05])\n",
    "    plt.xlabel('False Positive Rate')\n",
    "    plt.ylabel('True Positive Rate')\n",
    "    plt.title('Receiver operating characteristic')\n",
    "    plt.legend(loc=\"lower right\")\n",
    "\n",
    "    # create the axis of thresholds (scores)\n",
    "    ax2 = plt.gca().twinx()\n",
    "    ax2.plot(fpr, thresholds, markeredgecolor='r',linestyle='dashed', color='r')\n",
    "    ax2.set_ylabel('Threshold',color='r')\n",
    "    ax2.set_ylim([thresholds[-1],thresholds[0]])\n",
    "    ax2.set_xlim([fpr[0],fpr[-1]])\n",
    "\n",
    "    print(plt.figure())\n",
    "\n",
    "def plot_confusion_matrix(test_labels, target_predicted):\n",
    "    matrix = confusion_matrix(test_labels, target_predicted)\n",
    "    df_confusion = pd.DataFrame(matrix)\n",
    "    colormap = sns.color_palette(\"BrBG\", 10)\n",
    "    sns.heatmap(df_confusion, annot=True, fmt='.2f', cbar=None, cmap=colormap)\n",
    "    plt.title(\"Confusion Matrix\")\n",
    "    plt.tight_layout()\n",
    "    plt.ylabel(\"True Class\")\n",
    "    plt.xlabel(\"Predicted Class\")\n",
    "    plt.show()\n",
    "    \n",
    "\n",
    "f_zip = 'http://archive.ics.uci.edu/ml/machine-learning-databases/00212/vertebral_column_data.zip'\n",
    "r = requests.get(f_zip, stream=True)\n",
    "Vertebral_zip = zipfile.ZipFile(io.BytesIO(r.content))\n",
    "Vertebral_zip.extractall()\n",
    "\n",
    "data = arff.loadarff('column_2C_weka.arff')\n",
    "df = pd.DataFrame(data[0])\n",
    "\n",
    "class_mapper = {b'Abnormal':1,b'Normal':0}\n",
    "df['class']=df['class'].replace(class_mapper)\n",
    "\n",
    "cols = df.columns.tolist()\n",
    "cols = cols[-1:] + cols[:-1]\n",
    "df = df[cols]\n",
    "\n",
    "train, test_and_validate = train_test_split(df, test_size=0.2, random_state=42, stratify=df['class'])\n",
    "test, validate = train_test_split(test_and_validate, test_size=0.5, random_state=42, stratify=test_and_validate['class'])\n",
    "\n",
    "prefix='lab3'\n",
    "\n",
    "train_file='vertebral_train.csv'\n",
    "test_file='vertebral_test.csv'\n",
    "validate_file='vertebral_validate.csv'\n",
    "\n",
    "s3_resource = boto3.Session().resource('s3')\n",
    "def upload_s3_csv(filename, folder, dataframe):\n",
    "    csv_buffer = io.StringIO()\n",
    "    dataframe.to_csv(csv_buffer, header=False, index=False )\n",
    "    s3_resource.Bucket(bucket).Object(os.path.join(prefix, folder, filename)).put(Body=csv_buffer.getvalue())\n",
    "\n",
    "upload_s3_csv(train_file, 'train', train)\n",
    "upload_s3_csv(test_file, 'test', test)\n",
    "upload_s3_csv(validate_file, 'validate', validate)\n",
    "\n",
    "container = retrieve('xgboost',boto3.Session().region_name,'1.0-1')\n",
    "\n",
    "hyperparams={\"num_round\":\"42\",\n",
    "             \"eval_metric\": \"auc\",\n",
    "             \"objective\": \"binary:logistic\",\n",
    "             \"silent\" : 1}\n",
    "\n",
    "s3_output_location=\"s3://{}/{}/output/\".format(bucket,prefix)\n",
    "xgb_model=sagemaker.estimator.Estimator(container,\n",
    "                                       sagemaker.get_execution_role(),\n",
    "                                       instance_count=1,\n",
    "                                       instance_type='ml.m5.2xlarge',\n",
    "                                       output_path=s3_output_location,\n",
    "                                        hyperparameters=hyperparams,\n",
    "                                        sagemaker_session=sagemaker.Session())\n",
    "\n",
    "train_channel = sagemaker.inputs.TrainingInput(\n",
    "    \"s3://{}/{}/train/\".format(bucket,prefix,train_file),\n",
    "    content_type='text/csv')\n",
    "\n",
    "validate_channel = sagemaker.inputs.TrainingInput(\n",
    "    \"s3://{}/{}/validate/\".format(bucket,prefix,validate_file),\n",
    "    content_type='text/csv')\n",
    "\n",
    "data_channels = {'train': train_channel, 'validation': validate_channel}\n",
    "\n",
    "xgb_model.fit(inputs=data_channels, logs=False)\n",
    "\n",
    "batch_X = test.iloc[:,1:];\n",
    "\n",
    "batch_X_file='batch-in.csv'\n",
    "upload_s3_csv(batch_X_file, 'batch-in', batch_X)\n",
    "\n",
    "batch_output = \"s3://{}/{}/batch-out/\".format(bucket,prefix)\n",
    "batch_input = \"s3://{}/{}/batch-in/{}\".format(bucket,prefix,batch_X_file)\n",
    "\n",
    "xgb_transformer = xgb_model.transformer(instance_count=1,\n",
    "                                       instance_type='ml.m5.2xlarge',\n",
    "                                       strategy='MultiRecord',\n",
    "                                       assemble_with='Line',\n",
    "                                       output_path=batch_output)\n",
    "\n",
    "xgb_transformer.transform(data=batch_input,\n",
    "                         data_type='S3Prefix',\n",
    "                         content_type='text/csv',\n",
    "                         split_type='Line')\n",
    "xgb_transformer.wait(logs=False)"
   ]
  },
  {
   "cell_type": "markdown",
   "metadata": {},
   "source": [
    "# Paso 1: obtención de las estadísticas del modelo"
   ]
  },
  {
   "cell_type": "markdown",
   "metadata": {},
   "source": [
    "Antes de ajustar el modelo, vuelva a familiarizarse con las métricas del modelo actual.\n",
    "\n",
    "La configuración realizó una predicción por lotes, por lo que se deben leer los resultados desde Amazon Simple Storage Service (Amazon S3)."
   ]
  },
  {
   "cell_type": "code",
   "execution_count": 5,
   "metadata": {},
   "outputs": [],
   "source": [
    "s3 = boto3.client('s3')\n",
    "obj = s3.get_object(Bucket=bucket, Key=\"{}/batch-out/{}\".format(prefix,'batch-in.csv.out'))\n",
    "target_predicted = pd.read_csv(io.BytesIO(obj['Body'].read()),names=['class'])\n",
    "\n",
    "def binary_convert(x):\n",
    "    threshold = 0.5\n",
    "    if x > threshold:\n",
    "        return 1\n",
    "    else:\n",
    "        return 0\n",
    "\n",
    "target_predicted_binary = target_predicted['class'].apply(binary_convert)\n",
    "test_labels = test.iloc[:,0]\n"
   ]
  },
  {
   "cell_type": "code",
   "execution_count": 10,
   "metadata": {},
   "outputs": [],
   "source": [
    "import numpy as np\n",
    "def plot_roc(test_labels, target_predicted_binary):\n",
    "    TN, FP, FN, TP = confusion_matrix(test_labels, target_predicted_binary).ravel()\n",
    "    # Sensitivity, hit rate, recall, or true positive rate\n",
    "    Sensitivity  = float(TP)/(TP+FN)*100\n",
    "    # Specificity or true negative rate\n",
    "    Specificity  = float(TN)/(TN+FP)*100\n",
    "    # Precision or positive predictive value\n",
    "    Precision = float(TP)/(TP+FP)*100\n",
    "    # Negative predictive value\n",
    "    NPV = float(TN)/(TN+FN)*100\n",
    "    # Fall out or false positive rate\n",
    "    FPR = float(FP)/(FP+TN)*100\n",
    "    # False negative rate\n",
    "    FNR = float(FN)/(TP+FN)*100\n",
    "    # False discovery rate\n",
    "    FDR = float(FP)/(TP+FP)*100\n",
    "    # Overall accuracy\n",
    "    ACC = float(TP+TN)/(TP+FP+FN+TN)*100\n",
    "\n",
    "    print(f\"Sensitivity or TPR: {Sensitivity}%\")    \n",
    "    print(f\"Specificity or TNR: {Specificity}%\") \n",
    "    print(f\"Precision: {Precision}%\")   \n",
    "    print(f\"Negative Predictive Value: {NPV}%\")  \n",
    "    print( f\"False Positive Rate: {FPR}%\") \n",
    "    print(f\"False Negative Rate: {FNR}%\")  \n",
    "    print(f\"False Discovery Rate: {FDR}%\" )\n",
    "    print(f\"Accuracy: {ACC}%\") \n",
    "\n",
    "    test_labels = test.iloc[:,0];\n",
    "    print(\"Validation AUC\", roc_auc_score(test_labels, target_predicted_binary) )\n",
    "\n",
    "    fpr, tpr, thresholds = roc_curve(test_labels, target_predicted)\n",
    "\n",
    "    finite_indices = np.isfinite(thresholds) \n",
    "    fpr_finite = fpr[finite_indices]\n",
    "    tpr_finite = tpr[finite_indices]\n",
    "    thresholds_finite = thresholds[finite_indices]\n",
    "\n",
    "    plt.figure()\n",
    "    plt.plot(fpr_finite, tpr_finite, label='ROC curve (area = %0.2f)' % auc(fpr_finite, tpr_finite))\n",
    "    plt.plot([0, 1], [0, 1], 'k--')  # Dashed diagonal\n",
    "    plt.xlim([0.0, 1.0])\n",
    "    plt.ylim([0.0, 1.05])\n",
    "    plt.xlabel('False Positive Rate')\n",
    "    plt.ylabel('True Positive Rate')\n",
    "    plt.title('Receiver operating characteristic')\n",
    "    plt.legend(loc=\"lower right\")\n",
    "\n",
    "    roc_auc = auc(fpr, tpr)\n",
    "\n",
    "    if thresholds_finite.size > 0:\n",
    "        ax2 = plt.gca().twinx()\n",
    "        ax2.plot(fpr_finite, thresholds_finite, markeredgecolor='r', linestyle='dashed', color='r')\n",
    "        ax2.set_ylabel('Threshold', color='r')\n",
    "        ax2.set_ylim([thresholds_finite[-1], thresholds_finite[0]])\n",
    "        ax2.set_xlim([fpr_finite[0], fpr_finite[-1]])\n",
    "\n",
    "    plt.show()"
   ]
  },
  {
   "cell_type": "markdown",
   "metadata": {},
   "source": [
    "Trace la matriz de confusión y la curva de la característica operativa del receptor (receiver operating characteristic, ROC) para el modelo original.\n"
   ]
  },
  {
   "cell_type": "code",
   "execution_count": null,
   "metadata": {},
   "outputs": [],
   "source": []
  },
  {
   "cell_type": "code",
   "execution_count": 6,
   "metadata": {},
   "outputs": [
    {
     "data": {
      "image/png": "[encoded data removed]",
      "text/plain": [
       "<Figure size 640x480 with 1 Axes>"
      ]
     },
     "metadata": {},
     "output_type": "display_data"
    }
   ],
   "source": [
    "plot_confusion_matrix(test_labels, target_predicted_binary)"
   ]
  },
  {
   "cell_type": "code",
   "execution_count": 11,
   "metadata": {},
   "outputs": [
    {
     "name": "stdout",
     "output_type": "stream",
     "text": [
      "Sensitivity or TPR: 90.47619047619048%\n",
      "Specificity or TNR: 70.0%\n",
      "Precision: 86.36363636363636%\n",
      "Negative Predictive Value: 77.77777777777779%\n",
      "False Positive Rate: 30.0%\n",
      "False Negative Rate: 9.523809523809524%\n",
      "False Discovery Rate: 13.636363636363635%\n",
      "Accuracy: 83.87096774193549%\n",
      "Validation AUC 0.8023809523809523\n"
     ]
    },
    {
     "data": {
      "image/png": "[encoded data removed]",
      "text/plain": [
       "<Figure size 640x480 with 2 Axes>"
      ]
     },
     "metadata": {},
     "output_type": "display_data"
    }
   ],
   "source": [
    "plot_roc(test_labels, target_predicted_binary)"
   ]
  },
  {
   "cell_type": "code",
   "execution_count": null,
   "metadata": {},
   "outputs": [],
   "source": []
  },
  {
   "cell_type": "markdown",
   "metadata": {},
   "source": [
    "Este gráfico le ofrece un punto de partida. Tome nota de la *Validation area under the curve (AUC)* (Área bajo la curva de validación). La usará más adelante para comprobar si su modelo ajustado es mejor. "
   ]
  },
  {
   "cell_type": "markdown",
   "metadata": {},
   "source": [
    "# Paso 2: creación de un trabajo de ajuste de hiperparámetros\n",
    "\n",
    "Un trabajo de ajuste de hiperparámetros puede tardar varias horas en completarse, dependiendo de los rangos de valores que le proporcione. Para simplificar esta tarea, los parámetros utilizados en este paso son un subconjunto de los rangos recomendados. Se ajustaron para dar buenos resultados en este laboratorio, sin que hagan falta varias horas para completarlo.\n",
    "\n",
    "Para obtener más información sobre los parámetros para ajustar en XGBoost, consulte [Tune an XGBoost Model (Ajustar un modelo de XGBoost)](https://docs.aws.amazon.com/sagemaker/latest/dg/xgboost-tuning.html) en la documentación de AWS."
   ]
  },
  {
   "cell_type": "markdown",
   "metadata": {},
   "source": [
    "Ya que la siguiente celda puede tardar alrededor de **45** minutos en completarse, continúe y ejecute la celda. Examinará lo que sucede y por qué se eligieron estos rangos de hiperparámetros."
   ]
  },
  {
   "cell_type": "code",
   "execution_count": 12,
   "metadata": {},
   "outputs": [
    {
     "name": "stderr",
     "output_type": "stream",
     "text": [
      "WARNING:sagemaker.estimator:No finished training job found associated with this estimator. Please make sure this estimator is only used for building workflow config\n",
      "WARNING:sagemaker.estimator:No finished training job found associated with this estimator. Please make sure this estimator is only used for building workflow config\n",
      "INFO:sagemaker:Creating hyperparameter tuning job with name: sagemaker-xgboost-250621-1116\n"
     ]
    },
    {
     "name": "stdout",
     "output_type": "stream",
     "text": [
      "................................................................................................................................................!\n",
      "!\n",
      "CPU times: user 811 ms, sys: 97.4 ms, total: 909 ms\n",
      "Wall time: 12min 26s\n"
     ]
    }
   ],
   "source": [
    "%%time\n",
    "from sagemaker.tuner import IntegerParameter, CategoricalParameter, ContinuousParameter, HyperparameterTuner\n",
    "\n",
    "xgb = sagemaker.estimator.Estimator(container,\n",
    "                                    role=sagemaker.get_execution_role(), \n",
    "                                    instance_count= 1, # make sure you have limit set for these instances\n",
    "                                    instance_type='ml.m4.xlarge', \n",
    "                                    output_path='s3://{}/{}/output'.format(bucket, prefix),\n",
    "                                    sagemaker_session=sagemaker.Session())\n",
    "\n",
    "\n",
    "xgb.set_hyperparameters(eval_metric='error@.40',\n",
    "                        objective='binary:logistic',\n",
    "                        num_round=42)\n",
    "\n",
    "hyperparameter_ranges = {'alpha': ContinuousParameter(0, 100),\n",
    "                         'min_child_weight': ContinuousParameter(1, 5),\n",
    "                         'subsample': ContinuousParameter(0.5, 1),\n",
    "                         'eta': ContinuousParameter(0.1, 0.3),  \n",
    "                         'num_round': IntegerParameter(1,50)\n",
    "                         }\n",
    "\n",
    "objective_metric_name = 'validation:error'\n",
    "objective_type = 'Minimize'\n",
    "\n",
    "tuner = HyperparameterTuner(xgb,\n",
    "                            objective_metric_name,\n",
    "                            hyperparameter_ranges,\n",
    "                            max_jobs=10, # Set this to 10 or above depending upon budget & available time.\n",
    "                            max_parallel_jobs=1,\n",
    "                            objective_type=objective_type,\n",
    "                            early_stopping_type='Auto')\n",
    "\n",
    "tuner.fit(inputs=data_channels, include_cls_metadata=False)\n",
    "tuner.wait()"
   ]
  },
  {
   "cell_type": "markdown",
   "metadata": {},
   "source": [
    "En primer lugar, creará el modelo que desea ajustar.\n",
    "\n",
    "```\n",
    "xgb = sagemaker.estimator.Estimator(container,\n",
    "                                   role=sagemaker.get_execution_role(), \n",
    "                                   instance_count= 1, # asegúrese de configurar un límite para estas instancias\n",
    "                                   instance_type='ml.m4.xlarge', \n",
    "                                   output_path='s3://{}/{}/output'.format(bucket, prefix),\n",
    "                                   sagemaker_session=sagemaker.Session())\n",
    "\n",
    "xgb.set_hyperparameters(eval_metric='[error@.40]',\n",
    "                        objective='binary:logistic',\n",
    "                        num_round=42)\n",
    "\n",
    "```                        \n",
    "\n",
    "Observe que *eval_metric* del modelo cambió a *error@.40*, con el objetivo de minimizar ese valor. \n",
    "\n",
    "**error** es la tasa de error de clasificación binaria. Se calcula como *#(wrong cases)/#(all cases)*. Para las predicciones, la evaluación considerará las instancias que tienen un valor de predicción mayor que 0,4 para ser instancias positivas y las demás son instancias negativas.\n",
    "\n",
    "A continuación, debe especificar los hiperparámetros que desea ajustar, además de los rangos que debe seleccionar para cada parámetro.\n",
    "\n",
    "Los hiperparámetros que tienen el mayor efecto en las métricas objetivo de XGBoost son: \n",
    "\n",
    "- alpha\n",
    "- min_child_weight\n",
    "- subsample\n",
    "- eta\n",
    "- num_round \n",
    "\n",
    "Puede encontrar los rangos de ajuste recomendados en la documentación de AWS en [Tune an XGBoost Model (Ajustar un modelo de XGBoost)](https://docs.aws.amazon.com/sagemaker/latest/dg/xgboost-tuning.html).\n",
    "\n",
    "Para este laboratorio, usará un *subconjunto* de valores. Estos valores se obtuvieron ejecutando el trabajo de ajuste con el rango completo, luego, minimizando el rango para que se puedan usar menos iteraciones y obtener un mejor rendimiento. Aunque esta práctica no es estrictamente realista, evita que espere varias horas a que se complete el trabajo de ajuste en este laboratorio.\n",
    "\n",
    "```\n",
    "hyperparameter_ranges = {'alpha': ContinuousParameter(0, 100),\n",
    "                         'min_child_weight': ContinuousParameter(1, 5),\n",
    "                         'subsample': ContinuousParameter(0.5, 1),\n",
    "                         'eta': ContinuousParameter(0.1, 0.3),  \n",
    "                         'num_round': IntegerParameter(1,50)\n",
    "                         }\n",
    "```\n",
    "\n",
    "\n",
    "Debe especificar cómo evaluará el modelo. Podría usar varias métricas objetivo distintas, de las que un subconjunto se aplica a un problema de clasificación binaria. Como la métrica de evaluación es **error**, configure el objetivo en *error*.\n",
    "\n",
    "```\n",
    "objective_metric_name = 'validation:error'\n",
    "objective_type = 'Minimize'\n",
    "```\n",
    "\n",
    "Por último, ejecute el trabajo de ajuste.\n",
    "\n",
    "```\n",
    "tuner = HyperparameterTuner(xgb,\n",
    "                            objective_metric_name,\n",
    "                            hyperparameter_ranges,\n",
    "                            max_jobs=10, # Configure esto en 10 o más dependiendo del presupuesto y tiempo disponible.\n",
    "                            max_parallel_jobs=1,\n",
    "                            objective_type=objective_type,\n",
    "                            early_stopping_type='Auto')\n",
    "\n",
    "tuner.fit(inputs=data_channels, include_cls_metadata=False)\n",
    "tuner.wait()\n",
    "```\n",
    "\n"
   ]
  },
  {
   "cell_type": "markdown",
   "metadata": {},
   "source": [
    "<i class=\"fas fa-exclamation-triangle\" style=\"color:red\"></i> Espere a que finalice el trabajo de entrenamiento. Esto podría tardar hasta **45** minutos. Mientras espera, observe el estado del trabajo en la consola, según se describe en las siguientes instrucciones.\n",
    "\n",
    "**Para supervisar los trabajos de optimización de hiperparámetros:**  \n",
    "\n",
    "1. En la Consola de administración de AWS, en el menú **Servicios**, haga clic en **Amazon SageMaker**.  \n",
    "2. Elija **Entrenamiento > Trabajos de ajuste de hiperparámetros**.  \n",
    "3. Puede revisar el estado de cada trabajo de ajuste de hiperparámetros, su valor de métrica objetiva y sus registros.  "
   ]
  },
  {
   "cell_type": "markdown",
   "metadata": {},
   "source": [
    "Después de que finalice el trabajo de entrenamiento, revise el trabajo y asegúrese de que se completó correctamente."
   ]
  },
  {
   "cell_type": "code",
   "execution_count": 13,
   "metadata": {},
   "outputs": [
    {
     "data": {
      "text/plain": [
       "'Completed'"
      ]
     },
     "execution_count": 13,
     "metadata": {},
     "output_type": "execute_result"
    }
   ],
   "source": [
    "boto3.client('sagemaker').describe_hyper_parameter_tuning_job(\n",
    "    HyperParameterTuningJobName=tuner.latest_tuning_job.job_name)['HyperParameterTuningJobStatus']"
   ]
  },
  {
   "cell_type": "markdown",
   "metadata": {},
   "source": [
    "# Paso 3: investigación de los resultados del trabajo de ajuste\n",
    "\n",
    "Ahora que se completó el trabajo, debe haber 10 trabajos completados. Uno de los trabajos debe marcarse como el mejor.\n",
    "\n",
    "Puede examinar las métricas obteniendo *HyperparameterTuningJobAnalytics* y cargando esos datos en un DataFrame de pandas.\n"
   ]
  },
  {
   "cell_type": "code",
   "execution_count": 14,
   "metadata": {},
   "outputs": [
    {
     "data": {
      "text/html": [
       "<div>\n",
       "<style scoped>\n",
       "    .dataframe tbody tr th:only-of-type {\n",
       "        vertical-align: middle;\n",
       "    }\n",
       "\n",
       "    .dataframe tbody tr th {\n",
       "        vertical-align: top;\n",
       "    }\n",
       "\n",
       "    .dataframe thead th {\n",
       "        text-align: right;\n",
       "    }\n",
       "</style>\n",
       "<table border=\"1\" class=\"dataframe\">\n",
       "  <thead>\n",
       "    <tr style=\"text-align: right;\">\n",
       "      <th></th>\n",
       "      <th>alpha</th>\n",
       "      <th>eta</th>\n",
       "      <th>min_child_weight</th>\n",
       "      <th>num_round</th>\n",
       "      <th>subsample</th>\n",
       "      <th>TrainingJobName</th>\n",
       "      <th>TrainingJobStatus</th>\n",
       "      <th>FinalObjectiveValue</th>\n",
       "      <th>TrainingStartTime</th>\n",
       "      <th>TrainingEndTime</th>\n",
       "      <th>TrainingElapsedTimeSeconds</th>\n",
       "    </tr>\n",
       "  </thead>\n",
       "  <tbody>\n",
       "    <tr>\n",
       "      <th>2</th>\n",
       "      <td>1.947431</td>\n",
       "      <td>0.100000</td>\n",
       "      <td>3.896146</td>\n",
       "      <td>27.0</td>\n",
       "      <td>0.782159</td>\n",
       "      <td>sagemaker-xgboost-250621-1116-008-19f26ceb</td>\n",
       "      <td>Completed</td>\n",
       "      <td>0.09677</td>\n",
       "      <td>2025-06-21 11:25:05+00:00</td>\n",
       "      <td>2025-06-21 11:25:39+00:00</td>\n",
       "      <td>34.0</td>\n",
       "    </tr>\n",
       "    <tr>\n",
       "      <th>3</th>\n",
       "      <td>6.701096</td>\n",
       "      <td>0.211993</td>\n",
       "      <td>3.376863</td>\n",
       "      <td>34.0</td>\n",
       "      <td>0.679828</td>\n",
       "      <td>sagemaker-xgboost-250621-1116-007-ee5bac85</td>\n",
       "      <td>Completed</td>\n",
       "      <td>0.09677</td>\n",
       "      <td>2025-06-21 11:24:11+00:00</td>\n",
       "      <td>2025-06-21 11:24:45+00:00</td>\n",
       "      <td>34.0</td>\n",
       "    </tr>\n",
       "    <tr>\n",
       "      <th>4</th>\n",
       "      <td>0.000000</td>\n",
       "      <td>0.275462</td>\n",
       "      <td>1.156258</td>\n",
       "      <td>35.0</td>\n",
       "      <td>0.749790</td>\n",
       "      <td>sagemaker-xgboost-250621-1116-006-2dd7c33f</td>\n",
       "      <td>Completed</td>\n",
       "      <td>0.12903</td>\n",
       "      <td>2025-06-21 11:23:13+00:00</td>\n",
       "      <td>2025-06-21 11:23:46+00:00</td>\n",
       "      <td>33.0</td>\n",
       "    </tr>\n",
       "    <tr>\n",
       "      <th>6</th>\n",
       "      <td>35.050045</td>\n",
       "      <td>0.107050</td>\n",
       "      <td>2.143634</td>\n",
       "      <td>12.0</td>\n",
       "      <td>0.592124</td>\n",
       "      <td>sagemaker-xgboost-250621-1116-004-259e4537</td>\n",
       "      <td>Completed</td>\n",
       "      <td>0.19355</td>\n",
       "      <td>2025-06-21 11:21:28+00:00</td>\n",
       "      <td>2025-06-21 11:22:02+00:00</td>\n",
       "      <td>34.0</td>\n",
       "    </tr>\n",
       "    <tr>\n",
       "      <th>0</th>\n",
       "      <td>9.288964</td>\n",
       "      <td>0.158934</td>\n",
       "      <td>1.678054</td>\n",
       "      <td>3.0</td>\n",
       "      <td>1.000000</td>\n",
       "      <td>sagemaker-xgboost-250621-1116-010-8b376b62</td>\n",
       "      <td>Completed</td>\n",
       "      <td>0.22581</td>\n",
       "      <td>2025-06-21 11:27:08+00:00</td>\n",
       "      <td>2025-06-21 11:29:03+00:00</td>\n",
       "      <td>115.0</td>\n",
       "    </tr>\n",
       "    <tr>\n",
       "      <th>5</th>\n",
       "      <td>53.965466</td>\n",
       "      <td>0.126292</td>\n",
       "      <td>1.745005</td>\n",
       "      <td>33.0</td>\n",
       "      <td>0.910453</td>\n",
       "      <td>sagemaker-xgboost-250621-1116-005-4dfb648b</td>\n",
       "      <td>Completed</td>\n",
       "      <td>0.22581</td>\n",
       "      <td>2025-06-21 11:22:20+00:00</td>\n",
       "      <td>2025-06-21 11:22:54+00:00</td>\n",
       "      <td>34.0</td>\n",
       "    </tr>\n",
       "    <tr>\n",
       "      <th>8</th>\n",
       "      <td>25.179757</td>\n",
       "      <td>0.251079</td>\n",
       "      <td>4.433226</td>\n",
       "      <td>38.0</td>\n",
       "      <td>0.614140</td>\n",
       "      <td>sagemaker-xgboost-250621-1116-002-2eb27c3e</td>\n",
       "      <td>Completed</td>\n",
       "      <td>0.22581</td>\n",
       "      <td>2025-06-21 11:19:53+00:00</td>\n",
       "      <td>2025-06-21 11:20:27+00:00</td>\n",
       "      <td>34.0</td>\n",
       "    </tr>\n",
       "    <tr>\n",
       "      <th>9</th>\n",
       "      <td>45.135448</td>\n",
       "      <td>0.137647</td>\n",
       "      <td>4.347559</td>\n",
       "      <td>36.0</td>\n",
       "      <td>0.743973</td>\n",
       "      <td>sagemaker-xgboost-250621-1116-001-bbc28d38</td>\n",
       "      <td>Completed</td>\n",
       "      <td>0.22581</td>\n",
       "      <td>2025-06-21 11:17:43+00:00</td>\n",
       "      <td>2025-06-21 11:19:37+00:00</td>\n",
       "      <td>114.0</td>\n",
       "    </tr>\n",
       "    <tr>\n",
       "      <th>1</th>\n",
       "      <td>66.541109</td>\n",
       "      <td>0.279120</td>\n",
       "      <td>2.626457</td>\n",
       "      <td>41.0</td>\n",
       "      <td>0.651620</td>\n",
       "      <td>sagemaker-xgboost-250621-1116-009-2db68da6</td>\n",
       "      <td>Stopped</td>\n",
       "      <td>0.67742</td>\n",
       "      <td>2025-06-21 11:25:57+00:00</td>\n",
       "      <td>2025-06-21 11:26:21+00:00</td>\n",
       "      <td>24.0</td>\n",
       "    </tr>\n",
       "    <tr>\n",
       "      <th>7</th>\n",
       "      <td>91.085082</td>\n",
       "      <td>0.193783</td>\n",
       "      <td>1.562103</td>\n",
       "      <td>27.0</td>\n",
       "      <td>0.966840</td>\n",
       "      <td>sagemaker-xgboost-250621-1116-003-d610d8f9</td>\n",
       "      <td>Completed</td>\n",
       "      <td>0.67742</td>\n",
       "      <td>2025-06-21 11:20:41+00:00</td>\n",
       "      <td>2025-06-21 11:21:15+00:00</td>\n",
       "      <td>34.0</td>\n",
       "    </tr>\n",
       "  </tbody>\n",
       "</table>\n",
       "</div>"
      ],
      "text/plain": [
       "       alpha       eta  min_child_weight  num_round  subsample  \\\n",
       "2   1.947431  0.100000          3.896146       27.0   0.782159   \n",
       "3   6.701096  0.211993          3.376863       34.0   0.679828   \n",
       "4   0.000000  0.275462          1.156258       35.0   0.749790   \n",
       "6  35.050045  0.107050          2.143634       12.0   0.592124   \n",
       "0   9.288964  0.158934          1.678054        3.0   1.000000   \n",
       "5  53.965466  0.126292          1.745005       33.0   0.910453   \n",
       "8  25.179757  0.251079          4.433226       38.0   0.614140   \n",
       "9  45.135448  0.137647          4.347559       36.0   0.743973   \n",
       "1  66.541109  0.279120          2.626457       41.0   0.651620   \n",
       "7  91.085082  0.193783          1.562103       27.0   0.966840   \n",
       "\n",
       "                              TrainingJobName TrainingJobStatus  \\\n",
       "2  sagemaker-xgboost-250621-1116-008-19f26ceb         Completed   \n",
       "3  sagemaker-xgboost-250621-1116-007-ee5bac85         Completed   \n",
       "4  sagemaker-xgboost-250621-1116-006-2dd7c33f         Completed   \n",
       "6  sagemaker-xgboost-250621-1116-004-259e4537         Completed   \n",
       "0  sagemaker-xgboost-250621-1116-010-8b376b62         Completed   \n",
       "5  sagemaker-xgboost-250621-1116-005-4dfb648b         Completed   \n",
       "8  sagemaker-xgboost-250621-1116-002-2eb27c3e         Completed   \n",
       "9  sagemaker-xgboost-250621-1116-001-bbc28d38         Completed   \n",
       "1  sagemaker-xgboost-250621-1116-009-2db68da6           Stopped   \n",
       "7  sagemaker-xgboost-250621-1116-003-d610d8f9         Completed   \n",
       "\n",
       "   FinalObjectiveValue         TrainingStartTime           TrainingEndTime  \\\n",
       "2              0.09677 2025-06-21 11:25:05+00:00 2025-06-21 11:25:39+00:00   \n",
       "3              0.09677 2025-06-21 11:24:11+00:00 2025-06-21 11:24:45+00:00   \n",
       "4              0.12903 2025-06-21 11:23:13+00:00 2025-06-21 11:23:46+00:00   \n",
       "6              0.19355 2025-06-21 11:21:28+00:00 2025-06-21 11:22:02+00:00   \n",
       "0              0.22581 2025-06-21 11:27:08+00:00 2025-06-21 11:29:03+00:00   \n",
       "5              0.22581 2025-06-21 11:22:20+00:00 2025-06-21 11:22:54+00:00   \n",
       "8              0.22581 2025-06-21 11:19:53+00:00 2025-06-21 11:20:27+00:00   \n",
       "9              0.22581 2025-06-21 11:17:43+00:00 2025-06-21 11:19:37+00:00   \n",
       "1              0.67742 2025-06-21 11:25:57+00:00 2025-06-21 11:26:21+00:00   \n",
       "7              0.67742 2025-06-21 11:20:41+00:00 2025-06-21 11:21:15+00:00   \n",
       "\n",
       "   TrainingElapsedTimeSeconds  \n",
       "2                        34.0  \n",
       "3                        34.0  \n",
       "4                        33.0  \n",
       "6                        34.0  \n",
       "0                       115.0  \n",
       "5                        34.0  \n",
       "8                        34.0  \n",
       "9                       114.0  \n",
       "1                        24.0  \n",
       "7                        34.0  "
      ]
     },
     "execution_count": 14,
     "metadata": {},
     "output_type": "execute_result"
    }
   ],
   "source": [
    "from pprint import pprint\n",
    "from sagemaker.analytics import HyperparameterTuningJobAnalytics\n",
    "\n",
    "tuner_analytics = HyperparameterTuningJobAnalytics(tuner.latest_tuning_job.name, sagemaker_session=sagemaker.Session())\n",
    "\n",
    "df_tuning_job_analytics = tuner_analytics.dataframe()\n",
    "\n",
    "# Sort the tuning job analytics by the final metrics value\n",
    "df_tuning_job_analytics.sort_values(\n",
    "    by=['FinalObjectiveValue'],\n",
    "    inplace=True,\n",
    "    ascending=False if tuner.objective_type == \"Maximize\" else True)\n",
    "\n",
    "# Show detailed analytics for the top 20 models\n",
    "df_tuning_job_analytics.head(20)"
   ]
  },
  {
   "cell_type": "markdown",
   "metadata": {},
   "source": [
    "Debe poder ver los hiperparámetros que se usaron para cada trabajo, junto con la puntuación. Podría usar esos parámetros y crear un modelo, o puede obtener el mejor modelo a partir del trabajo de ajuste de hiperparámetros."
   ]
  },
  {
   "cell_type": "code",
   "execution_count": 15,
   "metadata": {},
   "outputs": [],
   "source": [
    "attached_tuner = HyperparameterTuner.attach(tuner.latest_tuning_job.name, sagemaker_session=sagemaker.Session())\n",
    "best_training_job = attached_tuner.best_training_job()"
   ]
  },
  {
   "cell_type": "markdown",
   "metadata": {},
   "source": [
    "Ahora debe adjuntar el mejor trabajo de entrenamiento y crear el modelo."
   ]
  },
  {
   "cell_type": "code",
   "execution_count": 16,
   "metadata": {},
   "outputs": [
    {
     "name": "stdout",
     "output_type": "stream",
     "text": [
      "\n",
      "2025-06-21 11:25:03 Starting - Found matching resource for reuse\n",
      "2025-06-21 11:25:03 Downloading - Downloading the training image\n",
      "2025-06-21 11:25:03 Training - Training image download completed. Training in progress.\n",
      "2025-06-21 11:25:03 Uploading - Uploading generated training model\n",
      "2025-06-21 11:25:03 Completed - Resource reused by training job: sagemaker-xgboost-250621-1116-008-19f26ceb\n"
     ]
    }
   ],
   "source": [
    "from sagemaker.estimator import Estimator\n",
    "algo_estimator = Estimator.attach(best_training_job)\n",
    "\n",
    "best_algo_model = algo_estimator.create_model(env={'SAGEMAKER_DEFAULT_INVOCATIONS_ACCEPT':\"text/csv\"})"
   ]
  },
  {
   "cell_type": "markdown",
   "metadata": {},
   "source": [
    "Luego, puede usar el método de transformación para realizar una predicción por lotes con sus datos de pruebas. Recuerde que los datos de pruebas son aquellos que el modelo nunca ha visto antes."
   ]
  },
  {
   "cell_type": "code",
   "execution_count": 17,
   "metadata": {},
   "outputs": [
    {
     "name": "stderr",
     "output_type": "stream",
     "text": [
      "INFO:sagemaker:Creating model with name: sagemaker-xgboost-2025-06-21-11-39-13-038\n",
      "INFO:sagemaker:Creating transform job with name: sagemaker-xgboost-2025-06-21-11-39-13-544\n"
     ]
    },
    {
     "name": "stdout",
     "output_type": "stream",
     "text": [
      ".......................................\n",
      "..!\n",
      "CPU times: user 726 ms, sys: 71.3 ms, total: 798 ms\n",
      "Wall time: 6min 58s\n"
     ]
    }
   ],
   "source": [
    "%%time\n",
    "batch_output = \"s3://{}/{}/batch-out/\".format(bucket,prefix)\n",
    "batch_input = \"s3://{}/{}/batch-in/{}\".format(bucket,prefix,batch_X_file)\n",
    "\n",
    "xgb_transformer = best_algo_model.transformer(instance_count=1,\n",
    "                                       instance_type='ml.m4.xlarge',\n",
    "                                       strategy='MultiRecord',\n",
    "                                       assemble_with='Line',\n",
    "                                       output_path=batch_output)\n",
    "\n",
    "\n",
    "xgb_transformer.transform(data=batch_input,\n",
    "                         data_type='S3Prefix',\n",
    "                         content_type='text/csv',\n",
    "                         split_type='Line')\n",
    "xgb_transformer.wait(logs=False)"
   ]
  },
  {
   "cell_type": "markdown",
   "metadata": {},
   "source": [
    "Obtenga el objetivo que se predijo y las etiquetas de prueba del modelo."
   ]
  },
  {
   "cell_type": "code",
   "execution_count": 18,
   "metadata": {},
   "outputs": [],
   "source": [
    "s3 = boto3.client('s3')\n",
    "obj = s3.get_object(Bucket=bucket, Key=\"{}/batch-out/{}\".format(prefix,'batch-in.csv.out'))\n",
    "best_target_predicted = pd.read_csv(io.BytesIO(obj['Body'].read()),names=['class'])\n",
    "\n",
    "def binary_convert(x):\n",
    "    threshold = 0.5\n",
    "    if x > threshold:\n",
    "        return 1\n",
    "    else:\n",
    "        return 0\n",
    "\n",
    "best_target_predicted_binary = best_target_predicted['class'].apply(binary_convert)\n",
    "test_labels = test.iloc[:,0]"
   ]
  },
  {
   "cell_type": "markdown",
   "metadata": {},
   "source": [
    "Trace una matriz de confusión para `best_target_predicted` y `test_labels`."
   ]
  },
  {
   "cell_type": "code",
   "execution_count": 19,
   "metadata": {},
   "outputs": [
    {
     "data": {
      "image/png": "[encoded data removed]",
      "text/plain": [
       "<Figure size 640x480 with 1 Axes>"
      ]
     },
     "metadata": {},
     "output_type": "display_data"
    }
   ],
   "source": [
    "plot_confusion_matrix(test_labels, best_target_predicted_binary)"
   ]
  },
  {
   "cell_type": "markdown",
   "metadata": {},
   "source": [
    "Trace el gráfico ROC:"
   ]
  },
  {
   "cell_type": "code",
   "execution_count": 21,
   "metadata": {},
   "outputs": [
    {
     "name": "stdout",
     "output_type": "stream",
     "text": [
      "Sensitivity or TPR: 95.23809523809523%\n",
      "Specificity or TNR: 70.0%\n",
      "Precision: 86.95652173913044%\n",
      "Negative Predictive Value: 87.5%\n",
      "False Positive Rate: 30.0%\n",
      "False Negative Rate: 4.761904761904762%\n",
      "False Discovery Rate: 13.043478260869565%\n",
      "Accuracy: 87.09677419354838%\n",
      "Validation AUC 0.8261904761904761\n"
     ]
    },
    {
     "data": {
      "image/png": "[encoded data removed]",
      "text/plain": [
       "<Figure size 640x480 with 2 Axes>"
      ]
     },
     "metadata": {},
     "output_type": "display_data"
    }
   ],
   "source": [
    "plot_roc(test_labels, best_target_predicted_binary)"
   ]
  },
  {
   "cell_type": "markdown",
   "metadata": {},
   "source": [
    "**Pregunta:** ¿En qué se diferencian estos resultados del original? ¿Estos resultados son mejores o peores? \n",
    "\n",
    "Podría no ver siempre una mejora. Este resultado se debe a algunas razones:\n",
    "\n",
    "- El modelo podría ya ser bueno desde la pasada inicial (lo que se considera como *bueno* es subjetivo).\n",
    "- No tiene una gran cantidad de datos con los que entrenar.\n",
    "- Usa un *subconjunto* de los rangos de ajuste de hiperparámetros para ahorrarse tiempo en este laboratorio.\n",
    "\n",
    "Aumentar los rangos de hiperparámetros (como se recomienda en la documentación) y ejecutar más de 30 trabajo normalmente mejorará el modelo. Sin embargo, este proceso tardará entre 2 y 3 horas en completarse."
   ]
  },
  {
   "cell_type": "markdown",
   "metadata": {},
   "source": [
    "# ¡Felicitaciones!\n",
    "\n",
    "Completó este laboratorio y ahora puede finalizarlo siguiendo las instrucciones en la guía del laboratorio.\n",
    "\n",
    "\n"
   ]
  }
 ],
 "metadata": {
  "kernelspec": {
   "display_name": "conda_python3",
   "language": "python",
   "name": "conda_python3"
  },
  "language_info": {
   "codemirror_mode": {
    "name": "ipython",
    "version": 3
   },
   "file_extension": ".py",
   "mimetype": "text/x-python",
   "name": "python",
   "nbconvert_exporter": "python",
   "pygments_lexer": "ipython3",
   "version": "3.10.18"
  }
 },
 "nbformat": 4,
 "nbformat_minor": 4
}
