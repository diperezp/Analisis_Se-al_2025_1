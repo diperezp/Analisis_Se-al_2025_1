{
  "nbformat": 4,
  "nbformat_minor": 0,
  "metadata": {
    "colab": {
      "provenance": [],
      "collapsed_sections": [
        "wI3VW_wyEcef",
        "yVoBjuCCGM1X",
        "v4UH6VkrJvSu",
        "QfrOduKTMiMG",
        "2buNa-82OQ77",
        "xI6yu6UlOO1c"
      ],
      "authorship_tag": "ABX9TyPQs2UhqsaI8t/LYuTarPYt",
      "include_colab_link": true
    },
    "kernelspec": {
      "name": "python3",
      "display_name": "Python 3"
    },
    "language_info": {
      "name": "python"
    }
  },
  "cells": [
    {
      "cell_type": "markdown",
      "metadata": {
        "id": "view-in-github",
        "colab_type": "text"
      },
      "source": [
        "<a href=\"https://colab.research.google.com/github/diperezp/Analisis_Se-al_2025_1/blob/main/Optica/OpticaGeometricaMatricial.ipynb\" target=\"_parent\"><img src=\"https://colab.research.google.com/assets/colab-badge.svg\" alt=\"Open In Colab\"/></a>"
      ]
    },
    {
      "cell_type": "markdown",
      "source": [
        "#$Optica\\ Geometrica\\ Matricial$"
      ],
      "metadata": {
        "id": "f5x3GXLAEDE_"
      }
    },
    {
      "cell_type": "markdown",
      "source": [
        "##$Librerias\\ a\\ utilizar$"
      ],
      "metadata": {
        "id": "wI3VW_wyEcef"
      }
    },
    {
      "cell_type": "code",
      "execution_count": null,
      "metadata": {
        "id": "T7br9THnD5r3"
      },
      "outputs": [],
      "source": [
        "import numpy as np                  #manejo de matrices\n",
        "import math                         #libreria de matematicas\n",
        "import matplotlib.pyplot as plt     #libreria para graficar"
      ]
    },
    {
      "cell_type": "markdown",
      "source": [
        "##$Matriz\\ de\\ refracción$\n",
        "$$\\begin{pmatrix} 1& -\\textit{P} \\\\ 0 & 1\\end{pmatrix}$$\n",
        "\n",
        "$\\textit{P}\\rightarrow poder\\ de\\ la\\ interfase$\n",
        "\n",
        "$$P = \\frac{n_t-n_i}{R}$$\n",
        "\n",
        "\n",
        "*   $n_i \\rightarrow indice\\ de\\  incidencia$\n",
        "*   $n_t \\rightarrow indice\\ de\\ refraccion$\n",
        "*   $R  \\rightarrow radio\\ de\\ la\\ interfase$"
      ],
      "metadata": {
        "id": "yVoBjuCCGM1X"
      }
    },
    {
      "cell_type": "code",
      "source": [
        "\"\"\"Esta funcion devuelve la matriz de de refraccion\n",
        "   una interfase\n",
        "   Paramaters:\n",
        "   ----------------------\n",
        "   ni=float()--->indice de refraccion del medio incidente\n",
        "   nt=float()--->indice de refraccion del medio transmitido\n",
        "   R=float()--->radio\n",
        "   Returns\n",
        "   ---------------------\n",
        "   ni=np.array(2,2)-> matriz de refraccion\n",
        "   \"\"\"\n",
        "def Ra(n_i,n_t,R):\n",
        "    P=(n_t-n_i)/R #poder del sistema\n",
        "    return np.array([[1,-P],[0,1]])\n",
        "\n",
        "print(Ra(1,1.5,10))"
      ],
      "metadata": {
        "colab": {
          "base_uri": "https://localhost:8080/"
        },
        "id": "4INQwxxXGQue",
        "outputId": "0eb4f093-605a-4397-e073-7fed06179067"
      },
      "execution_count": null,
      "outputs": [
        {
          "output_type": "stream",
          "name": "stdout",
          "text": [
            "[[ 1.   -0.05]\n",
            " [ 0.    1.  ]]\n"
          ]
        }
      ]
    },
    {
      "cell_type": "markdown",
      "source": [
        "##$Matriz\\ de\\ reflexión$\n",
        "\n",
        "$$\\begin{pmatrix} 1& \\frac{2n_i}{R} \\\\ 0 & 1\\end{pmatrix}$$\n",
        "\n",
        "\n",
        "*   $n_i \\rightarrow indice\\ de\\  incidencia$\n",
        "*   $R  \\rightarrow radio\\ de\\ la\\ interfase$\n",
        "\n",
        "\n",
        "\n",
        "\n"
      ],
      "metadata": {
        "id": "v4UH6VkrJvSu"
      }
    },
    {
      "cell_type": "code",
      "source": [
        "\"\"\"Esta funcion devuelve la matriz de reflexion de\n",
        "   una interfase\n",
        "   Paramaters:\n",
        "   ----------------------\n",
        "   ni=float()--->indice de refraccion del medio incidente\n",
        "   R=float()--->radio de la interfase\n",
        "   Returns\n",
        "   ---------------------\n",
        "   ni=np.array(2,2)-> matriz de reflexion\n",
        "   \"\"\"\n",
        "def Re(n_i,R):\n",
        "\n",
        "    return np.array([[1,2*n_i/R],[0,1]])\n",
        "\n",
        "print(Re(1,10))"
      ],
      "metadata": {
        "colab": {
          "base_uri": "https://localhost:8080/"
        },
        "id": "5S_pzJajMEpN",
        "outputId": "b162705f-8529-41d6-ce89-7718045b3edd"
      },
      "execution_count": null,
      "outputs": [
        {
          "output_type": "stream",
          "name": "stdout",
          "text": [
            "[[1.  0.2]\n",
            " [0.  1. ]]\n"
          ]
        }
      ]
    },
    {
      "cell_type": "markdown",
      "source": [
        "##$Matriz\\ de\\ translacion$\n",
        "\n",
        "$$\\begin{pmatrix} 1& 0 \\\\ \\frac{D_{12}}{n_{12}} & 1\\end{pmatrix}$$\n",
        "\n",
        "\n",
        "*   $D_{12} \\rightarrow distancias\\ entre\\ los\\ dos\\ vertices\\ de\\ la\\ lente$\n",
        "*   $n_{12}  \\rightarrow indice\\ de\\ refraccion\\ de\\ la\\ lente\\$"
      ],
      "metadata": {
        "id": "QfrOduKTMiMG"
      }
    },
    {
      "cell_type": "code",
      "source": [
        "\"\"\"Esta funcion devuelve la matriz de reflexion de\n",
        "   una interfase\n",
        "   Paramaters:\n",
        "   ----------------------\n",
        "   D=float()--->distancia entre los dos vertices de la lente\n",
        "   n=float()--->indice de refraccion de la lente\n",
        "   Returns\n",
        "   ---------------------\n",
        "   ni=np.array(2,2)-> matriz de traslación\n",
        "   \"\"\"\n",
        "def T(D,n):\n",
        "    return np.array([[1,0],[D/n,1]])\n",
        "print(T(1,1.5))"
      ],
      "metadata": {
        "colab": {
          "base_uri": "https://localhost:8080/"
        },
        "id": "auUIXTp-MXDp",
        "outputId": "3afa81e8-8e6d-4d5e-caad-f0faca123f3f"
      },
      "execution_count": null,
      "outputs": [
        {
          "output_type": "stream",
          "name": "stdout",
          "text": [
            "[[1.         0.        ]\n",
            " [0.66666667 1.        ]]\n"
          ]
        }
      ]
    },
    {
      "cell_type": "markdown",
      "source": [
        "##$Matriz\\ de\\ lente\\ gruesa$\n",
        "\n",
        "---\n",
        "$M_{L_{gruesa}}=R_{aV'}T_{VV'}R_{aV}$\n",
        "\n",
        "*   $R_{aV} → Matriz\\ del\\ primer\\ vertice\\ V$\n",
        "*   $T_{VV'} → Matriz\\ de\\ traslacion\\ entre\\ vertices\\  V→V'$\n",
        "*   $R_{aV'} → Matriz\\ del\\ segundo\\ vertice\\ V'$\n",
        "\n",
        "$$$$\\begin{pmatrix} 1 - (\\frac{P_{V'}D_l}{n_l})& -P_{V}-P_{V'}+(\\frac{P_{V}P_{V'}D_l}{n_l}) \\\\ \\frac{D_l}{n_l} &1 - (\\frac{P_{V}D_l}{n_l})\\end{pmatrix}$$ $$\n",
        "\n",
        "\n",
        "*   $n_l → indice\\ de\\ refraccion\\ de\\ la\\ lente$\n",
        "*   $D_l → grosor\\ de\\ la\\ lente$\n",
        "*   $P_{V}=\\frac{n_l-n}{R} → poder\\ del\\ vertice\\ V $\n",
        "*   $P_{V'}=\\frac{n'-n_l}{R'} → poder\\ del\\ vertice\\ V' $\n",
        "*   $n → indice\\ de\\ refraccion\\ a\\ la\\ izquierda\\ del\\ vertice\\ V$\n",
        "*   $n' → indice\\ de\\ refraccion\\ a\\ la\\ izquierda\\ del\\ vertice\\ V'$\n",
        "\n",
        "\n",
        "\n"
      ],
      "metadata": {
        "id": "2buNa-82OQ77"
      }
    },
    {
      "cell_type": "code",
      "source": [
        "\"\"\"Esta funcion devuelve la matriz de de refraccion\n",
        "   una interfase\n",
        "   Paramaters:\n",
        "   ----------------------\n",
        "   ni=float()--->indice de refraccion del medio incidente\n",
        "   R_1=float()--->radio del primer vertice\n",
        "   n_l=float()--->indice de refraccion de la lente\n",
        "   D=float()--->grosor de la lente\n",
        "   R_2=float()--->radio del segundo vertice\n",
        "   nt=float()--->indice de refraccion del medio transmitido\n",
        "\n",
        "   Returns\n",
        "   ---------------------\n",
        "   ni=np.array(2,2)-> matriz de refraccion\n",
        "   \"\"\"\n",
        "def Lg(n,R_1,n_l,D,R_2,nt):\n",
        "    P_1=(n_l-n)/R_1\n",
        "    P_2=(nt-n_l)/R_2\n",
        "    return np.array([[1-(P_1*D/n_l),-P_2-P_1+(P_1*P_2*D/n_l)],[D/n_l,1-(P_2*D/n_l)]])\n",
        "\n",
        "def LgM(n,R_1,n_l,D,R_2,nt):\n",
        "    Ra1=Ra(n,n_l,R_1)\n",
        "    T1=T(D,n_l)\n",
        "    Ra2=Ra(n_l,nt,R_2)\n",
        "    return np.dot(np.dot(Ra1,T1),Ra2)\n",
        "\n",
        "print(Lg(1,np.inf,1.5,0.15,-0.5,1))\n",
        "print(LgM(1,np.inf,1.5,0.15,-0.5,1))"
      ],
      "metadata": {
        "colab": {
          "base_uri": "https://localhost:8080/"
        },
        "id": "Imm-pNIkNrQv",
        "outputId": "a61a02b6-dc2a-43d7-f272-8410503b4d2e"
      },
      "execution_count": null,
      "outputs": [
        {
          "output_type": "stream",
          "name": "stdout",
          "text": [
            "[[ 1.  -1. ]\n",
            " [ 0.1  0.9]]\n",
            "[[ 1.  -1. ]\n",
            " [ 0.1  0.9]]\n"
          ]
        }
      ]
    },
    {
      "cell_type": "markdown",
      "source": [
        "##$Matriz\\ de\\ lente\\ delgada$\n",
        "\n",
        "---\n",
        "$M_{L_{gruesa}}=R_{aV'}T_{VV'}R_{aV}$\n",
        "\n",
        "*   $R_{aV} → Matriz\\ del\\ primer\\ vertice\\ V$\n",
        "*   $T_{VV'} → Matriz\\ de\\ traslacion\\ entre\\ vertices\\  V→V'$\n",
        "*   $R_{aV'} → Matriz\\ del\\ segundo\\ vertice\\ V'$\n",
        "\n",
        "$$ M_{L_{gruesa}}$$  \\begin{pmatrix} 1 - (\\frac{P_{V'}D_l}{n_l})& -P_{V}-P_{V'}+(\\frac{P_{V}P_{V'}D_l}{n_l}) \\\\ \\frac{D_l}{n_l} &1 - (\\frac{P_{V}D_l}{n_l})\\end{pmatrix}$$ $$\n",
        "\n",
        "\n",
        "*   $n_l → indice\\ de\\ refraccion\\ de\\ la\\ lente$\n",
        "*   $D_l ≈ 0 → lente\\ delgada$\n",
        "*   $P_{V}=\\frac{n_l-n}{R} → poder\\ del\\ vertice\\ V $\n",
        "*   $P_{V'}=\\frac{n'-n_l}{R'} → poder\\ del\\ vertice\\ V' $\n",
        "*   $n → indice\\ de\\ refraccion\\ a\\ la\\ izquierda\\ del\\ vertice\\ V$\n",
        "*   $n' → indice\\ de\\ refraccion\\ a\\ la\\ izquierda\\ del\\ vertice\\ V'$\n",
        "\n",
        "$$ M_{L_{delgada}}$$  \\begin{pmatrix} 1 & -P_{L_{delgada}}\\\\ 0 &1\\end{pmatrix}$$ $$\n",
        "\n",
        "*   $P_{L_{delgada}}= P_{V}+P_{V'}$\n",
        "\n",
        "\n",
        "$$P_{L_{delgada}}= \\frac{n_l-n}{R} + \\frac{n'-n_l}{R'}$$\n",
        "\n",
        "$ para\\ n=n'=1\\ se\\ tiene\\ que:$\n",
        "\n",
        "$$P_{L_{delgada}}= (n_l-1)\\frac{1}{R} - \\frac{1}{R'} → Ecuacion\\ del\\ fabricante\\ $$"
      ],
      "metadata": {
        "id": "xI6yu6UlOO1c"
      }
    },
    {
      "cell_type": "code",
      "source": [
        "\"\"\"Esta funcion devuelve la matriz de de refraccion\n",
        "   una interfase\n",
        "   Paramaters:\n",
        "   ----------------------\n",
        "   ni=float()--->indice de refraccion del medio incidente\n",
        "   R_1=float()--->radio del primer vertice\n",
        "   n_l=float()--->indice de refraccion de la lente\n",
        "   R_2=float()--->radio del segundo vertice\n",
        "   nt=float()--->indice de refraccion del medio transmitido\n",
        "\n",
        "   Returns\n",
        "   ---------------------\n",
        "   ni=np.array(2,2)-> matriz de refraccion\n",
        "   \"\"\"\n",
        "\n",
        "def Ld(n,R_1,n_l,R_2,nt):\n",
        "    P_1=(n_l-n)/R_1\n",
        "    P_2=(nt-n_l)/R_2\n",
        "    return np.array([[1,-P_1-P_2],\n",
        "                     [0,1]])\n",
        "\n",
        "def LdM(n,R_1,n_l,R_2,nt):\n",
        "    Ra1=Ra(n,n_l,R_1)\n",
        "    T1=T(0,n_l)\n",
        "    Ra2=Ra(n_l,nt,R_2)\n",
        "    return np.dot(np.dot(Ra1,T1),Ra2)\n",
        "\n",
        "print(Ld(1,10,1.5,np.inf,1))\n",
        "print(LdM(1,10,1.5,np.inf,1))\n"
      ],
      "metadata": {
        "colab": {
          "base_uri": "https://localhost:8080/"
        },
        "id": "5X0vTzPOXf-9",
        "outputId": "c672d0b4-f5b6-4e2b-debe-53f29e2e4bad"
      },
      "execution_count": null,
      "outputs": [
        {
          "output_type": "stream",
          "name": "stdout",
          "text": [
            "[[ 1.   -0.05]\n",
            " [ 0.    1.  ]]\n",
            "[[ 1.   -0.05]\n",
            " [ 0.    1.  ]]\n"
          ]
        }
      ]
    },
    {
      "cell_type": "markdown",
      "source": [
        "##$$Planos\\ principales$$\n",
        "\n",
        "\n",
        "$M_{HH'}= T_{V'H'}M_{HH'}T_{VH}$\n",
        "\n",
        "$T_{HV}=\\begin{pmatrix} 1& 0 \\\\ \\frac{D}{n} & 1\\end{pmatrix}\\\\\n",
        "M_{VV'}= \\begin{pmatrix} M_{11} & M_{12} \\\\ M_{21} & M_{22}\\end{pmatrix}\\\\\n",
        "T_{H'V'}=\\begin{pmatrix} 1& 0 \\\\ \\frac{D'}{n'} & 1\\end{pmatrix}$\n",
        "\n",
        "$$M_{HH'}= \\begin{pmatrix} M_{11}+\\frac{M_{12}D}{n} & M_{12}\\\\ \\frac{M_{11}D'}{n'}+\\frac{M_{12}DD'}{nn'}+M_{21}+\\frac{M_{22}D}{n}&M_{22}+\\frac{M_{12}D'}{n'} \\end{pmatrix}$$\n",
        "\n",
        "$$T_{H'V'}=\\begin{pmatrix} 1& -P_{sistema} \\\\ 0 & 1\\end{pmatrix}$$\n",
        "\n",
        "$\\therefore$\n",
        "\n",
        "$M_{11}+\\frac{M_{12}D}{n}=1 ⇒ \\overline{HV}=D=(\\frac{n}{M_{12}})(1-M_{11})$\n",
        "\n",
        "$M_{22}+\\frac{M_{12}D'}{n'}=1 ⇒ \\overline{V'H'}=D'=(\\frac{n'}{M_{12}})(1-M_{22})$\n",
        "\n",
        "$M_{12}=-P_{sistema}$\n",
        "\n",
        "$P_{sistema}=\\frac{nM_{11}}{D} + \\frac{n'M_{22}}{D'}+\\frac{nn'M_{21}}{DD'}$\n",
        "\n",
        "\n"
      ],
      "metadata": {
        "id": "y1cBu3h4bk8M"
      }
    },
    {
      "cell_type": "code",
      "source": [
        "\"\"\"\n",
        "Funcion devulve los parametros de los planos principales\n",
        "relacionados a una matriz de un sistema optico\n",
        "\"\"\"\n",
        "\n",
        "class PlanosPrincipales():\n",
        "    def __init__(self,matriz,n=1,np=1):\n",
        "        self.matriz=matriz\n",
        "        self.n=n\n",
        "        self.np=np\n",
        "\n",
        "    def D(self,n=1 # indice a la izquierda del sistema optico\n",
        "          ):\n",
        "        return (n/self.matriz[0,1])*(1-self.matriz[0,0])\n",
        "    def Dp(self,n=1 #indice a la derecha del sistema optico\n",
        "           ):\n",
        "        return (n/self.matriz[0,1])*(1-self.matriz[1,1])\n",
        "    def poder_sistema(self):\n",
        "        return -self.matriz[0,1]\n",
        "    def matriz_plano_principal(self):\n",
        "        return np.array([[1,-self.poder_sistema()],[0,1]])\n",
        "\n",
        "    def foco_principal_objeto(self,n=1 #indice a la izquierda del sistema optico\n",
        "                              ):\n",
        "        return n/self.poder_sistema()\n",
        "    def foco_principal_imagen(self,n=1 #indice a la derecha del sistema optico\n",
        "                              ):\n",
        "        return n/self.poder_sistema()"
      ],
      "metadata": {
        "id": "OJ4IVCLYR7K-"
      },
      "execution_count": null,
      "outputs": []
    },
    {
      "cell_type": "markdown",
      "source": [
        "## $ Formacion\\ de\\ Imagenes$\n",
        "\n",
        "\n",
        "$M_{OI}=T_{H'I}M_{HH'}T_{OH}$\n",
        "$=\\begin{pmatrix} 1&0\\\\ \\frac{s'}{n'}&1 \\end{pmatrix} \\begin{pmatrix} 1&-P_{sistema}\\\\ 0&1\\end{pmatrix} \\begin{pmatrix} 1&0\\\\ \\frac{s}{n}&1\\end{pmatrix}$\n",
        "\n",
        "\n",
        "$$M_{OI}=\\begin{pmatrix} 1-\\frac{s}{n}P_{sistema}& P_{sistema}\\\\\\frac{s'}{n'}+\\frac{s}{n}-\\frac{ss'}{nn'}P_{sistema}&1-\\frac{s'}{n'}P_{sistema} \\end{pmatrix}$$\n",
        "\n",
        "\n",
        "$\\text{Como se trata de una transformacion entre planos conjugados, entonces la matriz debe de tener la forma de:}$\n",
        "\n",
        "$M_{OI}=\\begin{pmatrix} \\frac{n'}{n}m_{α}&M_{12}\\\\0&m_{x} \\end{pmatrix} \\therefore$\n",
        "\n",
        "$\\frac{n'}{s'}+\\frac{n}{s}=P_{sistema}$\n",
        "\n",
        "$m_{x}=1-\\frac{s'}{n'}P_{sistema}$\n",
        "\n",
        "$m_{α}=\\frac{n}{n'}(1-\\frac{s}{n}P_{sistema})$\n",
        "\n"
      ],
      "metadata": {
        "id": "-QpiK-jFatfG"
      }
    },
    {
      "cell_type": "markdown",
      "source": [
        "# Nueva sección"
      ],
      "metadata": {
        "id": "csvw10JP-Zsy"
      }
    },
    {
      "cell_type": "code",
      "source": [
        "#clase de formacion de imagen\n",
        "\"\"\"Falta corregir el codigo este codigo no sirve y no esta probado\"\"\"\n",
        "class FormacionImagen(PlanosPrincipales):\n",
        "    def __init__(self,matriz,n=1,np=1,d=0):\n",
        "        super().__init__(matriz,n,np)\n",
        "        self.d=d #distancia entre el objeto y el vertice V\n",
        "\n",
        "    def distanciaOH(self):\n",
        "\n",
        "      #calculamos la distancia entre el objeto y el plano H\n",
        "      s= -self.D()+self.d\n",
        "      return s\n",
        "    def distanciaHpI(self):\n",
        "      sp= self.np/(self.poder_sistema()-(self.n/self.distanciaOH()))\n",
        "      return sp\n",
        "\n",
        "    def distanciaVpI(self):\n",
        "      return self.distanciaHpI()+self.Dp()\n",
        "\n",
        "    def mx(self):\n",
        "      mx=1-(self.distanciaHpI()/self.np)*self.poder_sistema()\n",
        "      return mx\n",
        "\n",
        "    def ma(self):\n",
        "      return (self.n/self.np)*(1-(self.distanciaOH()/self.n)*self.poder_sistema())\n"
      ],
      "metadata": {
        "id": "-G6Hwv1YfYTT"
      },
      "execution_count": null,
      "outputs": []
    },
    {
      "cell_type": "markdown",
      "source": [
        "##$Ejercicio\\ del\\ taller$"
      ],
      "metadata": {
        "id": "Iz7RJJrd--2G"
      }
    },
    {
      "cell_type": "code",
      "source": [
        "#matriz de refraccion 1\n",
        "n_e=1\n",
        "n_l1=1.6186\n",
        "R1=48.88\n",
        "Ra_1=Ra(n_e,n_l1,R1)\n",
        "print(Ra_1)\n",
        "#matriz de traslacion 1\n",
        "D1=8.89\n",
        "T1=T(D1,n_l1)\n",
        "print(T1)\n",
        "#matriz de refraccion 2\n",
        "R2=182.96\n",
        "Ra_2=Ra(n_l1,n_e,R2)\n",
        "print(Ra_2)\n",
        "#matriz de traslacion 2\n",
        "D2=0.38\n",
        "T2=T(D2,n_e)\n",
        "print(T2)\n",
        "#matriz de refraccion 3\n",
        "n_l2=1.57565\n",
        "R3=36.92\n",
        "Ra_3=Ra(n_e,n_l2,R3)\n",
        "print(Ra_3)\n",
        "#matriz de traslacion 3\n",
        "D3=15.11\n",
        "T3=T(D3,n_l2)\n",
        "print(T3)\n",
        "#matriz de refraccion 4\n",
        "n_l3=1.66764\n",
        "R4=np.inf\n",
        "Ra_4=Ra(n_l2,n_l3,R4)\n",
        "print(Ra_4)\n",
        "#matriz de traslacion 4\n",
        "D4=2.31\n",
        "T4=T(D4,n_l3)\n",
        "print(T4)\n",
        "#matriz de refraccion 5\n",
        "R5=23.06\n",
        "Ra_5=Ra(n_l3,n_e,R5)\n",
        "print(Ra_5)\n",
        "#matriz de traslacion 5\n",
        "D5=22.5\n",
        "T5=T(D5,n_e)\n",
        "print(T5)\n",
        "#matriz de refraccion 6\n",
        "n_l4=1.56046\n",
        "R6=-23.91\n",
        "Ra_6=Ra(n_e,n_l4,R6)\n",
        "print(Ra_6)\n",
        "#matriz de traslacion 6\n",
        "D6=1.92\n",
        "T6=T(D6,n_l4)\n",
        "print(T6)\n",
        "#matriz de refraccion 7\n",
        "n_l5=1.63128\n",
        "R7=np.inf\n",
        "Ra_7=Ra(n_l4,n_l5,R7)\n",
        "print(Ra_7)\n",
        "#matriz de traslacion 7\n",
        "D7=7.77\n",
        "T7=T(D7,n_l5)\n",
        "print(T7)\n",
        "#matriz de refraccion 8\n",
        "R8=-36.92\n",
        "Ra_8=Ra(n_l5,n_e,R8)\n",
        "print(Ra_8)\n",
        "#matriz de traslacion 8\n",
        "D8=0.38\n",
        "T8=T(D8,n_e)\n",
        "print(T8)\n",
        "#matriz de refraccion 9\n",
        "n_l6=1.61286\n",
        "R9=-1063.24\n",
        "Ra_9=Ra(n_e,n_l6,R9)\n",
        "print(Ra_9)\n",
        "#matriz de traslacion 9\n",
        "D9=6.73\n",
        "T9=T(D9,n_l6)\n",
        "print(T9)\n",
        "#matriz de refraccion 10\n",
        "R10=-48.88\n",
        "Ra_10=Ra(n_l6,n_e,R10)\n",
        "print(Ra_10)\n",
        "Lista=[Ra_1,T1,Ra_2,T2,Ra_3,T3,Ra_4,T4,Ra_5,T5,Ra_6,T6,Ra_7,T7,Ra_8,T8,Ra_9,T9,Ra_10]\n",
        "\n",
        "#calculamos la matriz del sistema con el simbolo @\n",
        "M_sistema=Ra_1@T1@Ra_2@T2@Ra_3@T3@Ra_4@T4@Ra_5@T5@Ra_6@T6@Ra_7@T7@Ra_8@T8@Ra_9@T9@Ra_10\n",
        "print(M_sistema)\n",
        "print(\"**************\")\n",
        "\n",
        "#funcion de multiplicacion\n",
        "def multiplica(lista):\n",
        "    M=lista[0]\n",
        "    for i in range(1,len(lista)):\n",
        "        M=np.dot(M,lista[i])\n",
        "    return M\n",
        "M_sistema2=multiplica(Lista)\n",
        "print(M_sistema2)\n",
        "print(\"**************\")\n",
        "\n",
        "\n",
        "\n",
        "\n"
      ],
      "metadata": {
        "colab": {
          "base_uri": "https://localhost:8080/"
        },
        "id": "Yn5WmwLCCSrQ",
        "outputId": "a6c655fe-2f1a-41a7-d005-f2d9c2fdf9eb"
      },
      "execution_count": null,
      "outputs": [
        {
          "output_type": "stream",
          "name": "stdout",
          "text": [
            "[[ 1.         -0.01265548]\n",
            " [ 0.          1.        ]]\n",
            "[[1.         0.        ]\n",
            " [5.49240084 1.        ]]\n",
            "[[1.         0.00338107]\n",
            " [0.         1.        ]]\n",
            "[[1.   0.  ]\n",
            " [0.38 1.  ]]\n",
            "[[ 1.         -0.01559182]\n",
            " [ 0.          1.        ]]\n",
            "[[1.         0.        ]\n",
            " [9.58969314 1.        ]]\n",
            "[[ 1. -0.]\n",
            " [ 0.  1.]]\n",
            "[[1.         0.        ]\n",
            " [1.38519105 1.        ]]\n",
            "[[1.        0.0289523]\n",
            " [0.        1.       ]]\n",
            "[[ 1.   0. ]\n",
            " [22.5  1. ]]\n",
            "[[1.        0.0234404]\n",
            " [0.        1.       ]]\n",
            "[[1.         0.        ]\n",
            " [1.23040642 1.        ]]\n",
            "[[ 1. -0.]\n",
            " [ 0.  1.]]\n",
            "[[1.         0.        ]\n",
            " [4.76313079 1.        ]]\n",
            "[[ 1.         -0.01709859]\n",
            " [ 0.          1.        ]]\n",
            "[[1.   0.  ]\n",
            " [0.38 1.  ]]\n",
            "[[1.00000000e+00 5.76407961e-04]\n",
            " [0.00000000e+00 1.00000000e+00]]\n",
            "[[1.         0.        ]\n",
            " [4.17271183 1.        ]]\n",
            "[[ 1.         -0.01253805]\n",
            " [ 0.          1.        ]]\n",
            "[[ 5.99239573e-01 -9.22216212e-03]\n",
            " [ 6.90463771e+01  6.06173447e-01]]\n",
            "**************\n",
            "[[ 5.99239573e-01 -9.22216212e-03]\n",
            " [ 6.90463771e+01  6.06173447e-01]]\n",
            "**************\n"
          ]
        }
      ]
    },
    {
      "cell_type": "code",
      "source": [
        "#instanciamos una clase de formacion de imagen\n",
        "fi=FormacionImagen(M_sistema,n=1,np=1,d=200)\n",
        "print(\"distancia entre H y V\")\n",
        "print(fi.D())\n",
        "print(\"distancia entre H' y V'\")\n",
        "print(fi.Dp())\n",
        "print(\"distancia entre O y H\")\n",
        "print(fi.distanciaOH())\n",
        "print(\"distancia entre H' y I\")\n",
        "print(fi.distanciaHpI())\n",
        "print(\"distancia entre V' y I\")\n",
        "print(fi.distanciaVpI())\n",
        "print(\"magnificacion lateral\")\n",
        "print(fi.mx())\n",
        "print(\"magnificacion angular\")\n",
        "print(fi.ma())"
      ],
      "metadata": {
        "colab": {
          "base_uri": "https://localhost:8080/"
        },
        "id": "ehm5yKnkD3be",
        "outputId": "df6272d1-2a8f-4cb8-ef01-cda0a6714b49"
      },
      "execution_count": null,
      "outputs": [
        {
          "output_type": "stream",
          "name": "stdout",
          "text": [
            "distancia entre H y V\n",
            "-43.45623318367238\n",
            "distancia entre H' y V'\n",
            "-42.704362417776565\n",
            "distancia entre O y H\n",
            "243.4562331836724\n",
            "distancia entre H' y I\n",
            "195.51688969599067\n",
            "distancia entre V' y I\n",
            "152.8125272782141\n",
            "magnificacion lateral\n",
            "-0.8030884530628777\n",
            "magnificacion angular\n",
            "-1.2451928504091008\n"
          ]
        }
      ]
    },
    {
      "cell_type": "markdown",
      "source": [
        "##$Ejercicio\\ 2$\n"
      ],
      "metadata": {
        "id": "j_eH8CsyqXfh"
      }
    },
    {
      "cell_type": "code",
      "source": [
        "#matriz de refraccion 1\n",
        "n_e=1\n",
        "n_l1=1.744\n",
        "R1=62\n",
        "Ra_1=Ra(n_e,n_l1,R1)\n",
        "print(\"matriz de refraccion 1\")\n",
        "print(Ra_1)\n",
        "#matriz de traslacion 1\n",
        "D1=1.11\n",
        "T1=T(D1,n_l1)\n",
        "print(\"matriz de traslacion 1\")\n",
        "print(T1)\n",
        "#matriz de refraccion 2\n",
        "n_l2=1.649\n",
        "R2=np.inf\n",
        "Ra_2=Ra(n_l1,n_l2,R2)\n",
        "print(\"matriz de refraccion 2\")\n",
        "print(Ra_2)\n",
        "#matriz de traslacion 2\n",
        "D2=0.74\n",
        "T2=T(D2,n_l2)\n",
        "print(\"matriz de traslacion 2\")\n",
        "print(T2)\n",
        "#matriz de refraccin 3\n",
        "R3=101.20\n",
        "Ra_3=Ra(n_l2,n_e,R3)\n",
        "print(\"matriz de refraccion 3\")\n",
        "print(Ra_3)\n",
        "#matriz de traslacion 3\n",
        "D3=2.78\n",
        "T3=T(D3,n_e)\n",
        "print(\"matriz de traslacion 3\")\n",
        "print(T3)\n",
        "#matriz de refraccion 4\n",
        "n_l3=1.649\n",
        "R4=-101.20\n",
        "Ra_4=Ra(n_e,n_l3,R4)\n",
        "print(\"matriz de refraccion 4\")\n",
        "print(Ra_4)\n",
        "#matriz de traslacion 4\n",
        "D4=0.74\n",
        "T4=T(D4,n_l3)\n",
        "print(\"matriz de traslacion 4\")\n",
        "print(T4)\n",
        "#matriz de refraccion 5\n",
        "n_l4=1.744\n",
        "R5=np.inf\n",
        "Ra_5=Ra(n_l3,n_l4,R5)\n",
        "print(\"matriz de refraccion 5\")\n",
        "print(Ra_5)\n",
        "#matriz de traslacion 5\n",
        "D5=1.11\n",
        "T5=T(D5,n_l4)\n",
        "print(\"matriz de traslacion 5\")\n",
        "print(T5)\n",
        "#matriz de refraccion 6\n",
        "R6=-62\n",
        "Ra_6=Ra(n_l4,n_e,R6)\n",
        "print(\"matriz de refraccion 6\")\n",
        "print(Ra_6)\n",
        "M_sistema=Ra_1@T1@Ra_2@T2@Ra_3@T3@Ra_4@T4@Ra_5@T5@Ra_6\n",
        "print(\"matriz del sistema\")\n",
        "print(M_sistema)\n",
        "print(\"**************\")"
      ],
      "metadata": {
        "id": "acDSz836IYmp",
        "colab": {
          "base_uri": "https://localhost:8080/"
        },
        "outputId": "6e9b0d41-b82d-4f53-bf39-a065de2cc443"
      },
      "execution_count": null,
      "outputs": [
        {
          "output_type": "stream",
          "name": "stdout",
          "text": [
            "matriz de refraccion 1\n",
            "[[ 1.    -0.012]\n",
            " [ 0.     1.   ]]\n",
            "matriz de traslacion 1\n",
            "[[1.         0.        ]\n",
            " [0.63646789 1.        ]]\n",
            "matriz de refraccion 2\n",
            "[[1. 0.]\n",
            " [0. 1.]]\n",
            "matriz de traslacion 2\n",
            "[[1.         0.        ]\n",
            " [0.44875682 1.        ]]\n",
            "matriz de refraccion 3\n",
            "[[1.         0.00641304]\n",
            " [0.         1.        ]]\n",
            "matriz de traslacion 3\n",
            "[[1.   0.  ]\n",
            " [2.78 1.  ]]\n",
            "matriz de refraccion 4\n",
            "[[1.         0.00641304]\n",
            " [0.         1.        ]]\n",
            "matriz de traslacion 4\n",
            "[[1.         0.        ]\n",
            " [0.44875682 1.        ]]\n",
            "matriz de refraccion 5\n",
            "[[ 1. -0.]\n",
            " [ 0.  1.]]\n",
            "matriz de traslacion 5\n",
            "[[1.         0.        ]\n",
            " [0.63646789 1.        ]]\n",
            "matriz de refraccion 6\n",
            "[[ 1.    -0.012]\n",
            " [ 0.     1.   ]]\n",
            "matriz del sistema\n",
            "[[ 0.97181891 -0.01110386]\n",
            " [ 5.00438486  0.97181891]]\n",
            "**************\n"
          ]
        }
      ]
    },
    {
      "cell_type": "code",
      "source": [
        "#matriz antes del diafragma\n",
        "m_before_diafragma=Ra_1@T1@Ra_2@T2@Ra_3\n",
        "print(\"matriz antes del diafragma\")\n",
        "print(m_before_diafragma)"
      ],
      "metadata": {
        "colab": {
          "base_uri": "https://localhost:8080/"
        },
        "id": "8kSccTfxzUec",
        "outputId": "e0da01bb-dce6-46bc-fde5-0eec39d233f7"
      },
      "execution_count": null,
      "outputs": [
        {
          "output_type": "stream",
          "name": "stdout",
          "text": [
            "matriz antes del diafragma\n",
            "[[ 0.9869773  -0.00567047]\n",
            " [ 1.08522471  1.00695959]]\n"
          ]
        }
      ]
    },
    {
      "cell_type": "markdown",
      "source": [
        "Si el diafragma esta en la mitad del sistema"
      ],
      "metadata": {
        "id": "atVMHRZj0Zr7"
      }
    },
    {
      "cell_type": "code",
      "source": [
        "fi=FormacionImagen(M_sistema,n=1,np=1,d=-2.78)\n",
        "print(\"Distancia de la imagen al V'\")\n",
        "print(fi.distanciaVpI())"
      ],
      "metadata": {
        "colab": {
          "base_uri": "https://localhost:8080/"
        },
        "id": "2szxYimu0ieF",
        "outputId": "6206a26d-a004-4034-86ee-3aa9a9a0f2dd"
      },
      "execution_count": null,
      "outputs": [
        {
          "output_type": "stream",
          "name": "stdout",
          "text": [
            "Distancia de la imagen al V'\n",
            "-2.2965559597740697\n"
          ]
        }
      ]
    },
    {
      "cell_type": "code",
      "source": [
        "#matriz despues del diafragma\n",
        "m_after_diafragma=Ra_4@T4@Ra_5@T5@Ra_6\n",
        "print(\"matriz despues del diafragma\")\n",
        "print(m_after_diafragma)"
      ],
      "metadata": {
        "colab": {
          "base_uri": "https://localhost:8080/"
        },
        "id": "PzWtPpoK0KOm",
        "outputId": "1fc47fa6-1db3-4961-a7a7-887c1e347cd4"
      },
      "execution_count": null,
      "outputs": [
        {
          "output_type": "stream",
          "name": "stdout",
          "text": [
            "matriz despues del diafragma\n",
            "[[ 1.00695959 -0.00567047]\n",
            " [ 1.08522471  0.9869773 ]]\n"
          ]
        }
      ]
    },
    {
      "cell_type": "code",
      "source": [
        "#instanciamos la clase formacion de imagen\n",
        "fi=FormacionImagen(M_sistema,n=1,np=1,d=2.78)\n",
        "print(\"distancia entre H y V\")\n",
        "print(fi.D())\n",
        "print(\"distancia entre H' y V'\")\n",
        "print(fi.Dp())\n",
        "print(\"distancia entre H y F\")\n",
        "print(fi.foco_principal_objeto())\n",
        "print(\"distancia entre H' y F'\")\n",
        "print(fi.foco_principal_imagen())\n",
        "print(\"distancia entre O y H\")\n",
        "print(fi.distanciaOH())\n",
        "print(\"distancia entre H' y I\")\n",
        "print(fi.distanciaHpI())\n",
        "print(\"distancia entre V' y I\")\n",
        "print(fi.distanciaVpI())"
      ],
      "metadata": {
        "colab": {
          "base_uri": "https://localhost:8080/"
        },
        "id": "lofnsbC0tRHx",
        "outputId": "feb1561f-46e7-4f04-d1e8-7f2b1303aa07"
      },
      "execution_count": null,
      "outputs": [
        {
          "output_type": "stream",
          "name": "stdout",
          "text": [
            "distancia entre H y V\n",
            "-2.537953583642531\n",
            "distancia entre H' y V'\n",
            "-2.537953583642531\n",
            "distancia entre H y F\n",
            "90.05873336168558\n",
            "distancia entre H' y F'\n",
            "90.05873336168558\n",
            "distancia entre O y H\n",
            "5.317953583642531\n",
            "distancia entre H' y I\n",
            "-5.651684644317809\n",
            "distancia entre V' y I\n",
            "-8.18963822796034\n"
          ]
        }
      ]
    },
    {
      "cell_type": "code",
      "source": [],
      "metadata": {
        "id": "axEt61COt3hA"
      },
      "execution_count": null,
      "outputs": []
    }
  ]
}